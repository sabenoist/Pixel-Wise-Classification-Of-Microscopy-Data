{
 "cells": [
  {
   "cell_type": "markdown",
   "metadata": {},
   "source": [
    "# Training data generation"
   ]
  },
  {
   "cell_type": "markdown",
   "metadata": {},
   "source": [
    "convert a list of image & segmented-images into training patches for a U-net type network.\n",
    "Because of Unet's architecture, the input patches are larger than the output patches.\n",
    "Ground truth data is saved as a (164x164x5) array."
   ]
  },
  {
   "cell_type": "markdown",
   "metadata": {},
   "source": [
    "### Imports & magics"
   ]
  },
  {
   "cell_type": "code",
   "execution_count": null,
   "metadata": {},
   "outputs": [],
   "source": [
    "%matplotlib notebook\n",
    "%load_ext autoreload"
   ]
  },
  {
   "cell_type": "code",
   "execution_count": null,
   "metadata": {},
   "outputs": [],
   "source": [
    "%autoreload 2\n",
    "import os\n",
    "import numpy as np\n",
    "import time\n",
    "from scripts_training_data.data_preparation import *\n",
    "from pims import ND2_Reader as nd2\n",
    "from multiprocessing import Pool\n",
    "from skimage import io\n"
   ]
  },
  {
   "cell_type": "markdown",
   "metadata": {},
   "source": [
    "### Paths"
   ]
  },
  {
   "cell_type": "code",
   "execution_count": null,
   "metadata": {},
   "outputs": [],
   "source": [
    "dataset = '20190326'\n",
    "\n",
    "root_dir = 'D:/Bachelor_Project/code/project/datasets/{}/'.format(dataset)\n",
    "out_dir = '{}/patches/'.format(root_dir)\n",
    "\n",
    "label_in_path = '{}/segmented_bordered/'.format(root_dir)\n",
    "\n",
    "label_dir = '{}/label/'.format(root_dir)\n",
    "raw_dir = '{}/raw/'.format(root_dir)"
   ]
  },
  {
   "cell_type": "markdown",
   "metadata": {},
   "source": [
    "### extract data from stack"
   ]
  },
  {
   "cell_type": "code",
   "execution_count": null,
   "metadata": {},
   "outputs": [],
   "source": [
    "from scripts_training_data.data_preparation import *\n",
    "\n",
    "stack_to_image_list(stack_path, raw_dir)"
   ]
  },
  {
   "cell_type": "code",
   "execution_count": null,
   "metadata": {
    "scrolled": false
   },
   "outputs": [],
   "source": [
    "from scripts_training_data.data_preparation import *\n",
    "classification_to_one_hot_ground_truth(label_in_path, label_dir, number_of_classes = None)"
   ]
  },
  {
   "cell_type": "markdown",
   "metadata": {},
   "source": [
    "### parameters for patch distortion\n",
    "specify parameters to generate distributions "
   ]
  },
  {
   "cell_type": "code",
   "execution_count": null,
   "metadata": {},
   "outputs": [],
   "source": [
    "patch_augmentation_parameters = {\n",
    "    'bin_image': False,\n",
    "    'scaling': [0.9, 1.1, 'uniform'],\n",
    "    'transposing': [0, 2, 'randint'],\n",
    "    'rotating': [0, 4, 'randint'],\n",
    "    'contrast_shifting': [0.2, 2.0, 'uniform'],\n",
    "    'noise_mean': [0, 0.1, 'normal'],\n",
    "    'noise_std': [0,0.05, 'normal'],\n",
    "    'input_patch_size': [348,348],\n",
    "    'output_patch_size': [164,164],\n",
    "    'augmentations_per_image': 10,\n",
    "    'patches_per_augmentation': 10,\n",
    "    'label_dir': label_dir,\n",
    "    'raw_dir': raw_dir,\n",
    "    'img_type': np.float32,\n",
    "    'label_class': 2,   # was 2, seems wrong that it has to be None to get it working\n",
    "    'min_pixels': 200,\n",
    "    'out_path_raw': '{}/raw/'.format(out_dir),\n",
    "    'out_path_label': '{}/label/'.format(out_dir),\n",
    "    'out_path_wmap': '{}/wmap/'.format(out_dir)\n",
    "}"
   ]
  },
  {
   "cell_type": "markdown",
   "metadata": {},
   "source": [
    "### make patches"
   ]
  },
  {
   "cell_type": "code",
   "execution_count": null,
   "metadata": {
    "scrolled": true
   },
   "outputs": [],
   "source": [
    "from scripts_training_data.extract_patches import *\n",
    "\n",
    "if __name__ == '__main__':\n",
    "    start = time.time()\n",
    "    \n",
    "    img_list = [a for a in os.listdir(label_dir) if a.endswith('.tif')]\n",
    "    \n",
    "    paramlist = []\n",
    "    for im in img_list:\n",
    "        pap = patch_augmentation_parameters.copy()\n",
    "        pap['frame'] = im\n",
    "        paramlist.append(pap)\n",
    "        \n",
    "    p = Pool(processes=7)\n",
    "    \n",
    "    p.map(gt_generation, paramlist)"
   ]
  },
  {
   "cell_type": "markdown",
   "metadata": {},
   "source": [
    "### extract patch classes\n",
    "For weightmap construction we want to correct for class frequency. So we need to count them."
   ]
  },
  {
   "cell_type": "code",
   "execution_count": null,
   "metadata": {},
   "outputs": [],
   "source": [
    "from scripts_training_data.patch_statistics import *\n",
    "\n",
    "classcounts = count_classes(patch_augmentation_parameters['out_path_label'])\n",
    "classcounts /= np.sum(classcounts)\n",
    "\n",
    "with open('{}/classcounts.txt'.format(out_dir), 'w') as f:\n",
    "    f.write('classcounts = {} \\n'.format(classcounts))"
   ]
  },
  {
   "cell_type": "markdown",
   "metadata": {},
   "source": [
    "### calculate training_dataset_statistics\n",
    "\n",
    "to allow for normalisation, like $\\frac{\\text{img}-\\text{mean}}{\\text{variance}}$, we need to calculate these things for the entire dataset:"
   ]
  },
  {
   "cell_type": "code",
   "execution_count": null,
   "metadata": {},
   "outputs": [],
   "source": [
    "from scripts_training_data.patch_statistics import *\n",
    "\n",
    "mean, sampleVariance = compute_training_set_statistics(patch_augmentation_parameters['out_path_raw'], )\n",
    "\n",
    "with open('{}/patch_mean_var.txt'.format(out_dir), 'w') as f:\n",
    "    f.write('mean = {} \\n'.format(mean))\n",
    "    f.write('variance = {} \\n'.format(sampleVariance))"
   ]
  },
  {
   "cell_type": "markdown",
   "metadata": {},
   "source": [
    "### Making weightmaps"
   ]
  },
  {
   "cell_type": "code",
   "execution_count": null,
   "metadata": {},
   "outputs": [],
   "source": [
    "from scripts_training_data.make_weightmaps import *\n",
    "\n",
    "classcounts = np.array([0.2, 0.2, 0.2, 0.2, 0.2])\n",
    "\n",
    "make_dirs(patch_augmentation_parameters['out_path_wmap'])\n",
    "\n",
    "if __name__ == '__main__':\n",
    "    \n",
    "    tuplist = [\n",
    "        (\n",
    "            '{}/{}'.format(patch_augmentation_parameters['out_path_label'], a),\n",
    "            '{}/{}'.format(patch_augmentation_parameters['out_path_wmap'], a),\n",
    "            np.array(classcounts),\n",
    "            10        )\n",
    "        for a in os.listdir(patch_augmentation_parameters['out_path_label']) if a.endswith('.tif')\n",
    "    ]\n",
    "\n",
    "    p = Pool(processes=7)\n",
    "    \n",
    "    p.map(make_weightmap, tuplist)\n",
    "    \n",
    "    \n"
   ]
  },
  {
   "cell_type": "code",
   "execution_count": null,
   "metadata": {
    "scrolled": true
   },
   "outputs": [],
   "source": [
    "%matplotlib notebook\n",
    "import matplotlib.pyplot as plt\n",
    "# wmpa.shape\n",
    "plt.imshow(wmap)\n",
    "plt.show()"
   ]
  },
  {
   "cell_type": "code",
   "execution_count": null,
   "metadata": {},
   "outputs": [],
   "source": [
    "np.max(wmap)"
   ]
  },
  {
   "cell_type": "code",
   "execution_count": null,
   "metadata": {},
   "outputs": [],
   "source": []
  }
 ],
 "metadata": {
  "kernelspec": {
   "display_name": "pytorchp3p6",
   "language": "python",
   "name": "pytorchp3p6"
  },
  "language_info": {
   "codemirror_mode": {
    "name": "ipython",
    "version": 3
   },
   "file_extension": ".py",
   "mimetype": "text/x-python",
   "name": "python",
   "nbconvert_exporter": "python",
   "pygments_lexer": "ipython3",
   "version": "3.6.7"
  }
 },
 "nbformat": 4,
 "nbformat_minor": 2
}
